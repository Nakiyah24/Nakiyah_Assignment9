{
  "nbformat": 4,
  "nbformat_minor": 0,
  "metadata": {
    "colab": {
      "provenance": [],
      "authorship_tag": "ABX9TyPgL9UVL0OGDP1hX6piZ6T0",
      "include_colab_link": true
    },
    "kernelspec": {
      "name": "python3",
      "display_name": "Python 3"
    },
    "language_info": {
      "name": "python"
    }
  },
  "cells": [
    {
      "cell_type": "markdown",
      "metadata": {
        "id": "view-in-github",
        "colab_type": "text"
      },
      "source": [
        "<a href=\"https://colab.research.google.com/github/Nakiyah24/Nakiyah_Assignment9/blob/main/Nakiyah_Assignment9.ipynb\" target=\"_parent\"><img src=\"https://colab.research.google.com/assets/colab-badge.svg\" alt=\"Open In Colab\"/></a>"
      ]
    },
    {
      "cell_type": "code",
      "execution_count": 38,
      "metadata": {
        "id": "QVMsJcbUbFS3"
      },
      "outputs": [],
      "source": [
        "import pandas as pd\n",
        "import matplotlib.pyplot as plt\n",
        "from fpdf import FPDF"
      ]
    },
    {
      "cell_type": "code",
      "source": [
        "# Function reading the csv file\n",
        "def readData(df):\n",
        "    return pd.read_csv(df)"
      ],
      "metadata": {
        "id": "Ap6tQuSqfq_k"
      },
      "execution_count": 39,
      "outputs": []
    },
    {
      "cell_type": "code",
      "source": [
        "# Function cleaning the data\n",
        "def cleanData(df, Columns, Duplicate):\n",
        "    dfCleaned = df.drop_duplicates(subset=Duplicate, keep=\"first\")\n",
        "    dfCleaned = dfCleaned[Columns]\n",
        "    return dfCleaned"
      ],
      "metadata": {
        "id": "QR-pZ28rfr-Q"
      },
      "execution_count": 40,
      "outputs": []
    },
    {
      "cell_type": "code",
      "source": [
        "# Creating Summary Statistics\n",
        "def summaryStatistics(df):\n",
        "    SumStats = df.describe(exclude=[\"O\"]).reset_index()\n",
        "    Median = df.median(numeric_only=True)\n",
        "    Median_df = pd.DataFrame(Median).T  # Transpose to match the structure of SumStats\n",
        "    SumStats = pd.concat([SumStats, Median_df], ignore_index=True)\n",
        "    SumStats.fillna(\"median\", inplace=True)\n",
        "    SumStats.set_index(\"index\", inplace=True)\n",
        "    return SumStats"
      ],
      "metadata": {
        "id": "T6QZryOAfvBO"
      },
      "execution_count": 41,
      "outputs": []
    },
    {
      "cell_type": "code",
      "source": [
        "# Creating a Stacked Plot\n",
        "def stackPlot(df, xVal, StackVal):\n",
        "    PivotData = df.groupby([xVal, StackVal]).size().unstack().fillna(0)\n",
        "    PivotData.plot(kind=\"bar\", stacked=True, figsize=(12, 8), colormap=\"tab20\")\n",
        "    plt.title(f\"Distribution of {StackVal} by {xVal}\")\n",
        "    plt.xlabel(f\"{xVal}\")\n",
        "    plt.ylabel(\"Count\")\n",
        "    plt.legend(title=f\"{StackVal}\", bbox_to_anchor=(1.05, 1), loc=\"upper left\")\n",
        "    plt.tight_layout()\n",
        "\n",
        "    # Save the plot to a file\n",
        "    plt.savefig(\"stack_plot.png\")\n",
        "    plt.close()\n",
        "    return \"stack_plot.png\""
      ],
      "metadata": {
        "id": "wYBQiJq8fv97"
      },
      "execution_count": 42,
      "outputs": []
    },
    {
      "cell_type": "code",
      "source": [
        "# Creating a Box Plot\n",
        "def barPlot(df, xVal, yVal, Segregate):\n",
        "    GroupingData = df.groupby([yVal, Segregate])[xVal].mean().unstack()\n",
        "    GroupingData.plot(kind=\"barh\", color=[\"#FFD0EC\", \"#E59BE9\"])\n",
        "    plt.xlabel(f\"Average {xVal}\")\n",
        "    plt.ylabel(f\"{yVal}\")\n",
        "    plt.title(f\"Average {xVal} by {yVal} and {Segregate}\")\n",
        "    plt.legend(title=\"Gender\", bbox_to_anchor=(1.05, 1), loc=\"upper left\")\n",
        "    plt.tight_layout()\n",
        "\n",
        "    # Save the plot to a file\n",
        "    plt.savefig(\"bar_plot.png\")\n",
        "    plt.close()\n",
        "    return \"bar_plot.png\""
      ],
      "metadata": {
        "id": "6XEp3aQCfzIr"
      },
      "execution_count": 43,
      "outputs": []
    },
    {
      "cell_type": "code",
      "source": [
        "def writeToPDF(Summary, graph1, graph2):\n",
        "\n",
        "    # Writing data into PDF\n",
        "    pdf = FPDF(format=\"letter\")\n",
        "    pdf.add_page()\n",
        "    pdf.set_font(\"Times\", size=12)\n",
        "\n",
        "    # Add Title\n",
        "    pdf.set_font(\"Times\", \"B\", 14)\n",
        "    pdf.cell(200, 10, txt=\"Summary Statistics\", ln=True, align=\"C\")\n",
        "    pdf.ln(10)\n",
        "\n",
        "    # Add Summary Statistics as a Table\n",
        "    page_width = 190  # Approximate width of the PDF page after margins\n",
        "    col_width = page_width / (\n",
        "        len(Summary.columns) + 1\n",
        "    )  # Divide width equally among all columns\n",
        "\n",
        "    # Add headers\n",
        "    pdf.set_font(\"Times\", \"B\", 12)\n",
        "    pdf.cell(col_width, 10, \"Metric\", border=1)\n",
        "    for col in Summary.columns:\n",
        "        pdf.cell(col_width, 10, col, border=1)\n",
        "    pdf.ln()\n",
        "\n",
        "    # Add rows for each metric\n",
        "    pdf.set_font(\"Times\", size=12)\n",
        "    for i, row in Summary.iterrows():\n",
        "        pdf.cell(col_width, 10, str(i), border=1)\n",
        "        for col in Summary.columns:\n",
        "            pdf.cell(col_width, 10, str(row[col]), border=1)\n",
        "        pdf.ln()\n",
        "\n",
        "    # Add Plots to PDF\n",
        "    # Add Stacked Plot to PDF\n",
        "    pdf.add_page()\n",
        "    pdf.ln(10)\n",
        "    pdf.set_font(\"Times\", \"B\", 14)\n",
        "    pdf.cell(200, 10, txt=\"Stacked Plot\", ln=True, align=\"C\")\n",
        "    pdf.ln(10)\n",
        "    pdf.image(graph1, x=10, y=pdf.get_y(), w=180)\n",
        "    pdf.ln(10)\n",
        "\n",
        "    # Add Bar Plot to PDF\n",
        "    pdf.add_page()\n",
        "    pdf.set_font(\"Times\", \"B\", 14)\n",
        "    pdf.cell(200, 10, txt=\"Bar Plot\", ln=True, align=\"C\")\n",
        "    pdf.ln(10)\n",
        "    pdf.image(graph2, x=10, y=pdf.get_y(), w=180)\n",
        "\n",
        "    # Save PDF\n",
        "    pdf.output(\"summary_statistics_report.pdf\")\n",
        "    return \"PDF file created\""
      ],
      "metadata": {
        "id": "6veT3Tapf1sk"
      },
      "execution_count": 44,
      "outputs": []
    },
    {
      "cell_type": "code",
      "source": [
        "# Initializing Variables\n",
        "Dataset = \"https://raw.githubusercontent.com/Nakiyah24/Nakiyah_Assignment9/refs/heads/main/Sleep_health_and_lifestyle_dataset.csv\"\n",
        "RequiredColumns = [\"Gender\", \"Occupation\", \"Sleep Duration\", \"Quality of Sleep\"]\n",
        "\n",
        "DuplicateValues = \"Person ID\"\n",
        "Gender = \"Gender\"\n",
        "Occupation = \"Occupation\"\n",
        "SleepHours = \"Sleep Duration\"\n",
        "SleepQuality = \"Quality of Sleep\""
      ],
      "metadata": {
        "id": "7VyggRYMf3hZ"
      },
      "execution_count": 45,
      "outputs": []
    },
    {
      "cell_type": "code",
      "source": [
        "# Calling Functions\n",
        "Data = readData(Dataset)\n",
        "CleanData = cleanData(Data, RequiredColumns, DuplicateValues)\n",
        "SummaryStatistics = summaryStatistics(CleanData)\n",
        "StackPlot = stackPlot(CleanData, SleepHours, Occupation)\n",
        "BarPlot = barPlot(CleanData, SleepQuality, Occupation, Gender)\n",
        "Output = writeToPDF(SummaryStatistics, StackPlot, BarPlot)\n",
        "\n",
        "print(\"Everything works great!\")"
      ],
      "metadata": {
        "colab": {
          "base_uri": "https://localhost:8080/"
        },
        "id": "AVoUmf5ff4T1",
        "outputId": "7cea2404-7ed6-4294-bb12-8cdeb8030cc7"
      },
      "execution_count": 46,
      "outputs": [
        {
          "output_type": "stream",
          "name": "stdout",
          "text": [
            "Everything works great!\n"
          ]
        }
      ]
    }
  ]
}